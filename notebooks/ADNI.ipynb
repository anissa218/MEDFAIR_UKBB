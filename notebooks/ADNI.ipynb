{
 "cells": [
  {
   "cell_type": "code",
   "execution_count": 1,
   "id": "bbd4178f",
   "metadata": {},
   "outputs": [],
   "source": [
    "import h5py\n",
    "import pandas as pd\n",
    "import numpy as np\n",
    "import cv2\n",
    "import os\n",
    "import matplotlib.pyplot as plt\n",
    "from collections import Counter\n",
    "from sklearn.model_selection import train_test_split"
   ]
  },
  {
   "cell_type": "code",
   "execution_count": null,
   "id": "e1173431",
   "metadata": {},
   "outputs": [],
   "source": [
    "# read metadata\n",
    "path = '/yourpath/data/ADNI/'\n",
    "\n",
    "# use `ADNI1_Baseline_3T_7_07_2022.csv` for ADNI 3T \n",
    "demo_data = pd.read_csv(path + 'ADNI1_Screening_1.5T_7_02_2022.csv')\n",
    "demo_data"
   ]
  },
  {
   "cell_type": "code",
   "execution_count": null,
   "id": "52196b73",
   "metadata": {},
   "outputs": [],
   "source": [
    "demo_data = demo_data[demo_data['Group'] != 'MCI']"
   ]
  },
  {
   "cell_type": "code",
   "execution_count": null,
   "id": "843f8689",
   "metadata": {},
   "outputs": [],
   "source": [
    "labels = demo_data['Group'].values.tolist()\n",
    "labels = [1 if x == 'AD' else 0 for x in labels]\n",
    "demo_data['label'] = labels"
   ]
  },
  {
   "cell_type": "code",
   "execution_count": null,
   "id": "5cd32963",
   "metadata": {},
   "outputs": [],
   "source": [
    "# flatten directories\n",
    "\n",
    "import os\n",
    "import itertools\n",
    "import shutil\n",
    "\n",
    "\n",
    "def move(destination):\n",
    "    all_files = []\n",
    "    for root, _dirs, files in itertools.islice(os.walk(destination), 1, None):\n",
    "        for filename in files:\n",
    "            #print(filename)\n",
    "            all_files.append(os.path.join(root, filename))\n",
    "    for filename in all_files:\n",
    "        shutil.move(filename, destination)\n",
    "\n",
    "move(path + 'images-bk')"
   ]
  },
  {
   "cell_type": "code",
   "execution_count": null,
   "id": "ffcf05e9",
   "metadata": {},
   "outputs": [],
   "source": [
    "# rename file: subject_id __ image_id\n",
    "images = os.listdir(path + 'images-all')\n",
    "for image in images:\n",
    "    subject_id = image[5: 15]\n",
    "    image_id = image[-10:]\n",
    "    \n",
    "    new_name = subject_id + '__' + image_id\n",
    "    old_path = os.path.join(path, 'images-all', image)\n",
    "    new_path = os.path.join(path, 'images-all', new_name)\n",
    "    os.rename(old_path, new_path)\n",
    "\n"
   ]
  },
  {
   "cell_type": "code",
   "execution_count": null,
   "id": "46c1b226",
   "metadata": {},
   "outputs": [],
   "source": [
    "# rename file: subject_id __ image_id\n",
    "images = os.listdir(path + 'images')\n",
    "for image in images:\n",
    "    image_id = image[-10:]\n",
    "    if not image_id[0] == 'I':\n",
    "        image_id = 'I'+ image_id\n",
    "    new_name = image.split('__')[0] + '__' + image_id\n",
    "    old_path = os.path.join(path, 'images', image)\n",
    "    new_path = os.path.join(path, 'images', new_name)\n",
    "    os.rename(old_path, new_path)"
   ]
  },
  {
   "cell_type": "code",
   "execution_count": null,
   "id": "2bf42610",
   "metadata": {
    "scrolled": true
   },
   "outputs": [],
   "source": [
    "def addpath(row):\n",
    "    return str(row['Subject']) + '__'+ str(row['Image Data ID']) + '.nii'\n",
    "\n",
    "demo_data[\"Path\"] = demo_data.apply(addpath, axis=1)\n",
    "#all_meta['Path'] = 'images/' + str(all_meta['idx']) + '.npy'\n",
    "demo_data"
   ]
  },
  {
   "cell_type": "code",
   "execution_count": null,
   "id": "9a1ed584",
   "metadata": {
    "scrolled": true
   },
   "outputs": [],
   "source": [
    "# the patient (0 for male and 1 for female), \n",
    "# the diagnosis (0 stands for healthy, 1 for glaucoma, and 2 for suspicious)\n",
    "\n",
    "\n",
    "demo_data['Age_multi'] = demo_data['Age'].values.astype('int')\n",
    "demo_data['Age_multi'] = np.where(demo_data['Age_multi'].between(0,54), 0, demo_data['Age_multi'])\n",
    "demo_data['Age_multi'] = np.where(demo_data['Age_multi'].between(55,65), 1, demo_data['Age_multi'])\n",
    "demo_data['Age_multi'] = np.where(demo_data['Age_multi'].between(65,75), 2, demo_data['Age_multi'])\n",
    "demo_data['Age_multi'] = np.where(demo_data['Age_multi'].between(75,85), 3, demo_data['Age_multi'])\n",
    "demo_data['Age_multi'] = np.where(demo_data['Age_multi']>=85, 4, demo_data['Age_multi'])\n",
    "\n",
    "demo_data['Age_binary'] = demo_data['Age'].values.astype('int')\n",
    "demo_data['Age_binary'] = np.where(demo_data['Age_binary'].between(0, 75), 0, demo_data['Age_binary'])\n",
    "demo_data['Age_binary'] = np.where(demo_data['Age_binary']>= 75, 1, demo_data['Age_binary'])\n",
    "demo_data"
   ]
  },
  {
   "cell_type": "code",
   "execution_count": null,
   "id": "e4f757b9",
   "metadata": {},
   "outputs": [],
   "source": [
    "def split_712(all_meta, patient_ids):\n",
    "    sub_train, sub_val_test = train_test_split(patient_ids, test_size=0.3, random_state=5)\n",
    "    sub_val, sub_test = train_test_split(sub_val_test, test_size=0.66, random_state=6)\n",
    "    train_meta = all_meta[all_meta.Subject.isin(sub_train.astype('str'))]\n",
    "    val_meta = all_meta[all_meta.Subject.isin(sub_val.astype('str'))]\n",
    "    test_meta = all_meta[all_meta.Subject.isin(sub_test.astype('str'))]\n",
    "    return train_meta, val_meta, test_meta\n",
    "\n",
    "sub_train, sub_val, sub_test = split_712(demo_data, np.unique(demo_data['Subject']))"
   ]
  },
  {
   "cell_type": "code",
   "execution_count": null,
   "id": "b91657ee",
   "metadata": {},
   "outputs": [],
   "source": [
    "sub_train.to_csv('/yourpath/ADNI/split/new_train.csv')\n",
    "sub_val.to_csv('/yourpath/ADNI/split/new_val.csv')\n",
    "sub_test.to_csv('/yourpath/ADNI/split/new_test.csv')"
   ]
  }
 ],
 "metadata": {
  "kernelspec": {
   "display_name": "Python 3 (ipykernel)",
   "language": "python",
   "name": "python3"
  },
  "language_info": {
   "codemirror_mode": {
    "name": "ipython",
    "version": 3
   },
   "file_extension": ".py",
   "mimetype": "text/x-python",
   "name": "python",
   "nbconvert_exporter": "python",
   "pygments_lexer": "ipython3",
   "version": "3.10.8"
  }
 },
 "nbformat": 4,
 "nbformat_minor": 5
}
