{
 "cells": [
  {
   "cell_type": "code",
   "execution_count": 1,
   "id": "bbd4178f",
   "metadata": {},
   "outputs": [],
   "source": [
    "import h5py\n",
    "import pandas as pd\n",
    "import numpy as np\n",
    "import cv2\n",
    "import os\n",
    "import matplotlib.pyplot as plt\n",
    "from collections import Counter\n",
    "from sklearn.model_selection import train_test_split"
   ]
  },
  {
   "cell_type": "code",
   "execution_count": null,
   "id": "8ec7b2ba-e08a-4819-8d0a-2ef5720c6705",
   "metadata": {},
   "outputs": [],
   "source": []
  },
  {
   "cell_type": "code",
   "execution_count": null,
   "id": "e1173431",
   "metadata": {},
   "outputs": [],
   "source": [
    "# read metadata\n",
    "path = 'yourpath/data/finalfitz17k/'\n",
    "\n",
    "annot_data = pd.read_csv(path + 'fitzpatrick17k.csv')\n",
    "annot_data"
   ]
  },
  {
   "cell_type": "code",
   "execution_count": null,
   "id": "95739fb4",
   "metadata": {},
   "outputs": [],
   "source": [
    "# 'fitzpatrick_scale' is the skin type\n",
    "Counter(annot_data['fitzpatrick_scale'])"
   ]
  },
  {
   "cell_type": "code",
   "execution_count": null,
   "id": "0b1098d0",
   "metadata": {},
   "outputs": [],
   "source": [
    "pathlist = annot_data['md5hash'].values.tolist()\n",
    "paths = ['images/' + i + '.jpg' for i in pathlist]"
   ]
  },
  {
   "cell_type": "code",
   "execution_count": null,
   "id": "a7847f09",
   "metadata": {},
   "outputs": [],
   "source": [
    "annot_data['Path'] = paths"
   ]
  },
  {
   "cell_type": "code",
   "execution_count": null,
   "id": "c80a746b",
   "metadata": {},
   "outputs": [],
   "source": [
    "# remove skin type == null \n",
    "annot_data = annot_data[annot_data['fitzpatrick_scale'] != -1]\n",
    "annot_data"
   ]
  },
  {
   "cell_type": "code",
   "execution_count": null,
   "id": "7f8b82c1",
   "metadata": {},
   "outputs": [],
   "source": [
    "Counter(annot_data['three_partition_label'])"
   ]
  },
  {
   "cell_type": "code",
   "execution_count": null,
   "id": "221a1aa0",
   "metadata": {},
   "outputs": [],
   "source": [
    "# binarize the label\n",
    "labellist = annot_data['three_partition_label'].values.tolist()\n",
    "labels = [1 if x == 'malignant' else 0 for x in labellist]\n",
    "print(Counter(labels))\n",
    "annot_data['binary_label'] = labels"
   ]
  },
  {
   "cell_type": "code",
   "execution_count": null,
   "id": "39807da2",
   "metadata": {},
   "outputs": [],
   "source": [
    "annot_data['skin_type'] = annot_data['fitzpatrick_scale'] - 1\n",
    "skin_lists = annot_data['skin_type'].values.tolist()\n",
    "annot_data['skin_binary'] = [0 if x <=2 else 1 for x in skin_lists] "
   ]
  },
  {
   "cell_type": "code",
   "execution_count": null,
   "id": "e4f757b9",
   "metadata": {},
   "outputs": [],
   "source": [
    "def split_811(all_meta, patient_ids):\n",
    "    sub_train, sub_val_test = train_test_split(patient_ids, test_size=0.2, random_state=5)\n",
    "    sub_val, sub_test = train_test_split(sub_val_test, test_size=0.5, random_state=6)\n",
    "    train_meta = all_meta[all_meta.md5hash.isin(sub_train)]\n",
    "    val_meta = all_meta[all_meta.md5hash.isin(sub_val)]\n",
    "    test_meta = all_meta[all_meta.md5hash.isin(sub_test)]\n",
    "    return train_meta, val_meta, test_meta\n",
    "\n",
    "sub_train, sub_val, sub_test = split_811(annot_data, np.unique(annot_data['md5hash']))"
   ]
  },
  {
   "cell_type": "code",
   "execution_count": null,
   "id": "b91657ee",
   "metadata": {},
   "outputs": [],
   "source": [
    "sub_train.to_csv('/yourpath/data/finalfitz17k/split/new_train.csv')\n",
    "sub_val.to_csv('/yourpath/data/finalfitz17k/split/new_val.csv')\n",
    "sub_test.to_csv('/yourpath/data/finalfitz17k/split/new_test.csv')"
   ]
  }
 ],
 "metadata": {
  "kernelspec": {
   "display_name": "Python 3 (ipykernel)",
   "language": "python",
   "name": "python3"
  },
  "language_info": {
   "codemirror_mode": {
    "name": "ipython",
    "version": 3
   },
   "file_extension": ".py",
   "mimetype": "text/x-python",
   "name": "python",
   "nbconvert_exporter": "python",
   "pygments_lexer": "ipython3",
   "version": "3.10.8"
  }
 },
 "nbformat": 4,
 "nbformat_minor": 5
}
