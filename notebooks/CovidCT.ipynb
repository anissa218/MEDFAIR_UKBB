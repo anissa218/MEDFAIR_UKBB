{
 "cells": [
  {
   "cell_type": "code",
   "execution_count": null,
   "id": "bbd4178f",
   "metadata": {},
   "outputs": [],
   "source": [
    "import h5py\n",
    "import pandas as pd\n",
    "import numpy as np\n",
    "import cv2\n",
    "import os\n",
    "import matplotlib.pyplot as plt\n",
    "from collections import Counter\n",
    "from sklearn.model_selection import train_test_split\n",
    "import pydicom as dicom"
   ]
  },
  {
   "cell_type": "code",
   "execution_count": null,
   "id": "e1173431",
   "metadata": {},
   "outputs": [],
   "source": [
    "# read metadata\n",
    "path = '/yourpath/data/COVID_CT_MD/'\n",
    "\n",
    "demo_data = pd.read_csv(path + 'Clinical-data.csv')\n",
    "demo_data"
   ]
  },
  {
   "cell_type": "code",
   "execution_count": null,
   "id": "88dd276b",
   "metadata": {},
   "outputs": [],
   "source": [
    "Diagnosis_list = demo_data['Diagnosis'].values.tolist()\n",
    "Folder_list = demo_data['Folder'].values.tolist()\n",
    "\n",
    "Path_list = [x +'/'+y+'.npy' for x, y in zip(Diagnosis_list, Folder_list)]\n",
    "\n",
    "binary_label_list = [1 if x=='COVID-19' else 0 for x in Diagnosis_list]\n",
    "\n",
    "demo_data['Path'] = Path_list\n",
    "demo_data['binary_label'] = binary_label_list"
   ]
  },
  {
   "cell_type": "code",
   "execution_count": null,
   "id": "7d69f0c9",
   "metadata": {},
   "outputs": [],
   "source": [
    "\n",
    "demo_data['Age_multi'] = demo_data['Patient Age'].str[:-1].values.astype('int')\n",
    "demo_data['Age_multi'] = np.where(demo_data['Age_multi'].between(-1,20), 0, demo_data['Age_multi'])\n",
    "demo_data['Age_multi'] = np.where(demo_data['Age_multi'].between(20,39), 1, demo_data['Age_multi'])\n",
    "demo_data['Age_multi'] = np.where(demo_data['Age_multi'].between(40,59), 2, demo_data['Age_multi'])\n",
    "demo_data['Age_multi'] = np.where(demo_data['Age_multi'].between(60,79), 3, demo_data['Age_multi'])\n",
    "demo_data['Age_multi'] = np.where(demo_data['Age_multi']>=80, 4, demo_data['Age_multi'])\n",
    "\n",
    "demo_data['Age_binary'] = demo_data['Patient Age'].str[:-1].values.astype('int')\n",
    "demo_data['Age_binary'] = np.where(demo_data['Age_binary'].between(-1, 60), 0, demo_data['Age_binary'])\n",
    "demo_data['Age_binary'] = np.where(demo_data['Age_binary']>= 60, 1, demo_data['Age_binary'])\n",
    "\n",
    "demo_data = demo_data.rename(columns={'Patient Gender': 'Sex'})"
   ]
  },
  {
   "cell_type": "code",
   "execution_count": null,
   "id": "e4f757b9",
   "metadata": {},
   "outputs": [],
   "source": [
    "def split_712(all_meta, patient_ids):\n",
    "    sub_train, sub_val_test = train_test_split(patient_ids, test_size=0.3, random_state=10)\n",
    "    sub_val, sub_test = train_test_split(sub_val_test, test_size=0.66, random_state=0)\n",
    "    train_meta = all_meta[all_meta.Folder.isin(sub_train.astype('str'))]\n",
    "    val_meta = all_meta[all_meta.Folder.isin(sub_val.astype('str'))]\n",
    "    test_meta = all_meta[all_meta.Folder.isin(sub_test.astype('str'))]\n",
    "    return train_meta, val_meta, test_meta\n",
    "\n",
    "sub_train, sub_val, sub_test = split_712(demo_data, np.unique(demo_data['Folder']))"
   ]
  },
  {
   "cell_type": "code",
   "execution_count": null,
   "id": "b91657ee",
   "metadata": {},
   "outputs": [],
   "source": [
    "sub_train.to_csv('/yourpath/data/COVID_CT_MD/split/new_train.csv')\n",
    "sub_val.to_csv('/yourpath/data/COVID_CT_MD/split/new_val.csv')\n",
    "sub_test.to_csv('/yourpath/data/COVID_CT_MD/split/new_test.csv')"
   ]
  }
 ],
 "metadata": {
  "kernelspec": {
   "display_name": "Python 3 (ipykernel)",
   "language": "python",
   "name": "python3"
  },
  "language_info": {
   "codemirror_mode": {
    "name": "ipython",
    "version": 3
   },
   "file_extension": ".py",
   "mimetype": "text/x-python",
   "name": "python",
   "nbconvert_exporter": "python",
   "pygments_lexer": "ipython3",
   "version": "3.10.8"
  }
 },
 "nbformat": 4,
 "nbformat_minor": 5
}
